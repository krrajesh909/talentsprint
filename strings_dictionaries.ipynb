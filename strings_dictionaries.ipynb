{
  "nbformat": 4,
  "nbformat_minor": 0,
  "metadata": {
    "colab": {
      "name": "Copy of strings_dictionaries.ipynb",
      "provenance": [],
      "authorship_tag": "ABX9TyPpadog08jxd5iYwH8huiDl",
      "include_colab_link": true
    },
    "kernelspec": {
      "name": "python3",
      "display_name": "Python 3"
    }
  },
  "cells": [
    {
      "cell_type": "markdown",
      "metadata": {
        "id": "view-in-github",
        "colab_type": "text"
      },
      "source": [
        "<a href=\"https://colab.research.google.com/github/krrajesh909/talentsprint/blob/master/strings_dictionaries.ipynb\" target=\"_parent\"><img src=\"https://colab.research.google.com/assets/colab-badge.svg\" alt=\"Open In Colab\"/></a>"
      ]
    },
    {
      "cell_type": "code",
      "metadata": {
        "id": "BoPNooLx8V3a",
        "colab_type": "code",
        "colab": {}
      },
      "source": [
        "a = ['12','14','18',True, \"test string\",['1','2','3']]\n"
      ],
      "execution_count": 0,
      "outputs": []
    },
    {
      "cell_type": "code",
      "metadata": {
        "id": "1fyphW998lMu",
        "colab_type": "code",
        "outputId": "6111a8f2-a6ce-4a3f-ca00-35365df40451",
        "colab": {
          "base_uri": "https://localhost:8080/",
          "height": 34
        }
      },
      "source": [
        "a[0],a[-1]"
      ],
      "execution_count": 0,
      "outputs": [
        {
          "output_type": "execute_result",
          "data": {
            "text/plain": [
              "('12', ['1', '2', '3'])"
            ]
          },
          "metadata": {
            "tags": []
          },
          "execution_count": 10
        }
      ]
    },
    {
      "cell_type": "code",
      "metadata": {
        "id": "GUvaJvpz8y32",
        "colab_type": "code",
        "outputId": "5ef5974c-d373-4a76-c5fd-a035d3ab798c",
        "colab": {
          "base_uri": "https://localhost:8080/",
          "height": 34
        }
      },
      "source": [
        "a.remove('14')\n",
        "a"
      ],
      "execution_count": 0,
      "outputs": [
        {
          "output_type": "execute_result",
          "data": {
            "text/plain": [
              "['12', '18', True, 'test string', ['1', '2', '3']]"
            ]
          },
          "metadata": {
            "tags": []
          },
          "execution_count": 11
        }
      ]
    },
    {
      "cell_type": "code",
      "metadata": {
        "id": "E_tQbPes8-DO",
        "colab_type": "code",
        "colab": {}
      },
      "source": [
        "x = a.pop()"
      ],
      "execution_count": 0,
      "outputs": []
    },
    {
      "cell_type": "code",
      "metadata": {
        "id": "pZYReEJ09B2P",
        "colab_type": "code",
        "outputId": "24355d79-8ae9-4175-e5cc-4b0278e04775",
        "colab": {
          "base_uri": "https://localhost:8080/",
          "height": 34
        }
      },
      "source": [
        "x"
      ],
      "execution_count": 0,
      "outputs": [
        {
          "output_type": "execute_result",
          "data": {
            "text/plain": [
              "['1', '2', '3']"
            ]
          },
          "metadata": {
            "tags": []
          },
          "execution_count": 13
        }
      ]
    },
    {
      "cell_type": "code",
      "metadata": {
        "id": "phKmFiB89D0N",
        "colab_type": "code",
        "outputId": "856f64fe-e2a6-4f84-e729-c8ffb43aa372",
        "colab": {
          "base_uri": "https://localhost:8080/",
          "height": 34
        }
      },
      "source": [
        "a"
      ],
      "execution_count": 0,
      "outputs": [
        {
          "output_type": "execute_result",
          "data": {
            "text/plain": [
              "['12', '18', True, 'test string']"
            ]
          },
          "metadata": {
            "tags": []
          },
          "execution_count": 14
        }
      ]
    },
    {
      "cell_type": "code",
      "metadata": {
        "id": "jAfSnQBi9e2M",
        "colab_type": "code",
        "outputId": "ac8382de-222f-4337-b8ab-8e3065289ea4",
        "colab": {
          "base_uri": "https://localhost:8080/",
          "height": 34
        }
      },
      "source": [
        "a.append(19)\n",
        "a"
      ],
      "execution_count": 0,
      "outputs": [
        {
          "output_type": "execute_result",
          "data": {
            "text/plain": [
              "['12', '18', True, 'test string', 19, 19]"
            ]
          },
          "metadata": {
            "tags": []
          },
          "execution_count": 16
        }
      ]
    },
    {
      "cell_type": "code",
      "metadata": {
        "id": "Lx1_LFwt9o6k",
        "colab_type": "code",
        "outputId": "a002b93a-ad57-4092-e8e9-d7e34a7f548e",
        "colab": {
          "base_uri": "https://localhost:8080/",
          "height": 151
        }
      },
      "source": [
        "a.append(['as','bd','hn'])\n",
        "a"
      ],
      "execution_count": 0,
      "outputs": [
        {
          "output_type": "execute_result",
          "data": {
            "text/plain": [
              "['12',\n",
              " '18',\n",
              " True,\n",
              " 'test string',\n",
              " 19,\n",
              " 19,\n",
              " ['as', 'bd', 'hn'],\n",
              " ['as', 'bd', 'hn']]"
            ]
          },
          "metadata": {
            "tags": []
          },
          "execution_count": 18
        }
      ]
    },
    {
      "cell_type": "code",
      "metadata": {
        "id": "Bp5_g45A90Sc",
        "colab_type": "code",
        "outputId": "3978a854-1cf3-42bf-d646-e3d54e5fb018",
        "colab": {
          "base_uri": "https://localhost:8080/",
          "height": 34
        }
      },
      "source": [
        "a[-1][1]"
      ],
      "execution_count": 0,
      "outputs": [
        {
          "output_type": "execute_result",
          "data": {
            "text/plain": [
              "'bd'"
            ]
          },
          "metadata": {
            "tags": []
          },
          "execution_count": 19
        }
      ]
    },
    {
      "cell_type": "code",
      "metadata": {
        "id": "4FquSuqE9762",
        "colab_type": "code",
        "colab": {}
      },
      "source": [
        "  f = [0, 1, 1, 2, 3, 5, 8, 13, 21, 34, 55, 89]"
      ],
      "execution_count": 0,
      "outputs": []
    },
    {
      "cell_type": "code",
      "metadata": {
        "id": "i6V_oViB9_JS",
        "colab_type": "code",
        "outputId": "a276ee98-91e2-45d2-cd2e-28bf80f104ca",
        "colab": {
          "base_uri": "https://localhost:8080/",
          "height": 34
        }
      },
      "source": [
        "f[0:3]"
      ],
      "execution_count": 0,
      "outputs": [
        {
          "output_type": "execute_result",
          "data": {
            "text/plain": [
              "[0, 1, 1]"
            ]
          },
          "metadata": {
            "tags": []
          },
          "execution_count": 22
        }
      ]
    },
    {
      "cell_type": "code",
      "metadata": {
        "id": "xzlShmJ9-Gww",
        "colab_type": "code",
        "outputId": "66b212bb-a20e-4f63-a789-b0c947b56cb1",
        "colab": {
          "base_uri": "https://localhost:8080/",
          "height": 34
        }
      },
      "source": [
        "f[3:13]"
      ],
      "execution_count": 0,
      "outputs": [
        {
          "output_type": "execute_result",
          "data": {
            "text/plain": [
              "[2, 3, 5, 8, 13, 21, 34, 55, 89]"
            ]
          },
          "metadata": {
            "tags": []
          },
          "execution_count": 27
        }
      ]
    },
    {
      "cell_type": "code",
      "metadata": {
        "id": "n6sJKypR-ZQU",
        "colab_type": "code",
        "outputId": "eb9a5901-761c-45ea-9f85-6647234627d4",
        "colab": {
          "base_uri": "https://localhost:8080/",
          "height": 34
        }
      },
      "source": [
        "g = f.copy()\n",
        "g[1:5] = [99,88]\n",
        "\n",
        "g"
      ],
      "execution_count": 0,
      "outputs": [
        {
          "output_type": "execute_result",
          "data": {
            "text/plain": [
              "[0, 99, 88, 5, 8, 13, 21, 34, 55, 89]"
            ]
          },
          "metadata": {
            "tags": []
          },
          "execution_count": 34
        }
      ]
    },
    {
      "cell_type": "code",
      "metadata": {
        "id": "FgwSirFEBVP4",
        "colab_type": "code",
        "outputId": "a6cdaca7-2133-4542-bdbe-27a9f1720205",
        "colab": {
          "base_uri": "https://localhost:8080/",
          "height": 34
        }
      },
      "source": [
        "f[2:9:2]"
      ],
      "execution_count": 0,
      "outputs": [
        {
          "output_type": "execute_result",
          "data": {
            "text/plain": [
              "[1, 3, 8, 21]"
            ]
          },
          "metadata": {
            "tags": []
          },
          "execution_count": 35
        }
      ]
    },
    {
      "cell_type": "code",
      "metadata": {
        "id": "5g6AEsIVBxOj",
        "colab_type": "code",
        "outputId": "13599aac-9854-4d1f-f4cc-22a016d6e640",
        "colab": {
          "base_uri": "https://localhost:8080/",
          "height": 34
        }
      },
      "source": [
        "f[:9:2]"
      ],
      "execution_count": 0,
      "outputs": [
        {
          "output_type": "execute_result",
          "data": {
            "text/plain": [
              "[0, 1, 3, 8, 21]"
            ]
          },
          "metadata": {
            "tags": []
          },
          "execution_count": 36
        }
      ]
    },
    {
      "cell_type": "code",
      "metadata": {
        "id": "hKXZvmGoFaug",
        "colab_type": "code",
        "colab": {}
      },
      "source": [
        "s = 'Python is very easy and \"mind blowing\" language'"
      ],
      "execution_count": 0,
      "outputs": []
    },
    {
      "cell_type": "code",
      "metadata": {
        "id": "1MTIoXlwFqER",
        "colab_type": "code",
        "outputId": "ba1c6b62-ccc6-4a5c-b4d7-73883dd7cf96",
        "colab": {
          "base_uri": "https://localhost:8080/",
          "height": 34
        }
      },
      "source": [
        "s[::3]"
      ],
      "execution_count": 0,
      "outputs": [
        {
          "output_type": "execute_result",
          "data": {
            "text/plain": [
              "'Ph  reyn\"nbwglgg'"
            ]
          },
          "metadata": {
            "tags": []
          },
          "execution_count": 3
        }
      ]
    },
    {
      "cell_type": "code",
      "metadata": {
        "id": "FOsVOT7RF3pW",
        "colab_type": "code",
        "outputId": "d60944c3-d738-4ef0-940e-0edeed1c0845",
        "colab": {
          "base_uri": "https://localhost:8080/",
          "height": 34
        }
      },
      "source": [
        "s[::-1]"
      ],
      "execution_count": 0,
      "outputs": [
        {
          "output_type": "execute_result",
          "data": {
            "text/plain": [
              "'egaugnal \"gniwolb dnim\" dna ysae yrev si nohtyP'"
            ]
          },
          "metadata": {
            "tags": []
          },
          "execution_count": 4
        }
      ]
    },
    {
      "cell_type": "code",
      "metadata": {
        "id": "XHqqiBNSGMKU",
        "colab_type": "code",
        "colab": {}
      },
      "source": [
        "def next_num(n:int) -> [int]:\n",
        "  return 9 if n % 2 == 0 else 29"
      ],
      "execution_count": 0,
      "outputs": []
    },
    {
      "cell_type": "code",
      "metadata": {
        "id": "0MSuh2UhGxTF",
        "colab_type": "code",
        "outputId": "3227e9a6-1cb3-4c99-9492-fa4a6ad6d373",
        "colab": {
          "base_uri": "https://localhost:8080/",
          "height": 34
        }
      },
      "source": [
        "print(next_num(99))"
      ],
      "execution_count": 0,
      "outputs": [
        {
          "output_type": "stream",
          "text": [
            "29\n"
          ],
          "name": "stdout"
        }
      ]
    },
    {
      "cell_type": "code",
      "metadata": {
        "id": "EdBl-NZuIXi_",
        "colab_type": "code",
        "colab": {}
      },
      "source": [
        "def prev_no(n:int) -> int:\n",
        "  return n -1"
      ],
      "execution_count": 0,
      "outputs": []
    },
    {
      "cell_type": "code",
      "metadata": {
        "id": "J3dlo9ajJaD6",
        "colab_type": "code",
        "colab": {}
      },
      "source": [
        "def seq_no(b:int) -> [int]:\n",
        "  if b == 90:\n",
        "    return[1]\n",
        "  return [b] + seq_no(prev_no(b))"
      ],
      "execution_count": 0,
      "outputs": []
    },
    {
      "cell_type": "code",
      "metadata": {
        "id": "tPicxjW4KGER",
        "colab_type": "code",
        "outputId": "d3d40e6e-103b-41a4-fc6b-8e0e28cbd553",
        "colab": {
          "base_uri": "https://localhost:8080/",
          "height": 34
        }
      },
      "source": [
        "print(seq_no(100))"
      ],
      "execution_count": 0,
      "outputs": [
        {
          "output_type": "stream",
          "text": [
            "[100, 99, 98, 97, 96, 95, 94, 93, 92, 91, 1]\n"
          ],
          "name": "stdout"
        }
      ]
    },
    {
      "cell_type": "code",
      "metadata": {
        "id": "lrUdAEoqUlsr",
        "colab_type": "code",
        "colab": {}
      },
      "source": [
        "capitals = {'tn': 'tamilnadu', 'kn':'karnataka', 'dh':'delhi', 'mh':'maharashtra', 'ap':'andhra pradesh'}"
      ],
      "execution_count": 0,
      "outputs": []
    },
    {
      "cell_type": "code",
      "metadata": {
        "id": "QYnAovNGVG95",
        "colab_type": "code",
        "outputId": "abce72ed-5f43-4d7e-ae82-7c46c8a8668f",
        "colab": {
          "base_uri": "https://localhost:8080/",
          "height": 34
        }
      },
      "source": [
        "capitals['tn']"
      ],
      "execution_count": 0,
      "outputs": [
        {
          "output_type": "execute_result",
          "data": {
            "text/plain": [
              "'tamilnadu'"
            ]
          },
          "metadata": {
            "tags": []
          },
          "execution_count": 26
        }
      ]
    },
    {
      "cell_type": "code",
      "metadata": {
        "id": "OTbj6BsHVNuB",
        "colab_type": "code",
        "colab": {}
      },
      "source": [
        "capitals['kn'] = 'bangalore'"
      ],
      "execution_count": 0,
      "outputs": []
    },
    {
      "cell_type": "code",
      "metadata": {
        "id": "jz6SIoCMVTJa",
        "colab_type": "code",
        "outputId": "462fb109-e870-41c9-e454-8864ee8adcce",
        "colab": {
          "base_uri": "https://localhost:8080/",
          "height": 101
        }
      },
      "source": [
        "capitals"
      ],
      "execution_count": 0,
      "outputs": [
        {
          "output_type": "execute_result",
          "data": {
            "text/plain": [
              "{'ap': 'andhra pradesh',\n",
              " 'dh': 'delhi',\n",
              " 'kn': 'bangalore',\n",
              " 'mh': 'maharashtra',\n",
              " 'tn': 'tamilnadu'}"
            ]
          },
          "metadata": {
            "tags": []
          },
          "execution_count": 28
        }
      ]
    },
    {
      "cell_type": "code",
      "metadata": {
        "id": "qGetwDSBdivc",
        "colab_type": "code",
        "outputId": "a37b75be-e9f3-42da-a576-ee06962ec4bc",
        "colab": {
          "base_uri": "https://localhost:8080/",
          "height": 34
        }
      },
      "source": [
        "10 in range(11)"
      ],
      "execution_count": 0,
      "outputs": [
        {
          "output_type": "execute_result",
          "data": {
            "text/plain": [
              "True"
            ]
          },
          "metadata": {
            "tags": []
          },
          "execution_count": 30
        }
      ]
    },
    {
      "cell_type": "code",
      "metadata": {
        "id": "B90mPvP8drYJ",
        "colab_type": "code",
        "outputId": "63d916d4-07db-47bd-e433-3e6c26ebb22c",
        "colab": {
          "base_uri": "https://localhost:8080/",
          "height": 34
        }
      },
      "source": [
        "\"dh\" in capitals"
      ],
      "execution_count": 0,
      "outputs": [
        {
          "output_type": "execute_result",
          "data": {
            "text/plain": [
              "True"
            ]
          },
          "metadata": {
            "tags": []
          },
          "execution_count": 32
        }
      ]
    },
    {
      "cell_type": "code",
      "metadata": {
        "id": "MHOKK5yPd2bN",
        "colab_type": "code",
        "colab": {}
      },
      "source": [
        "long_str = \"\"\" Lockdown in India is very much required in order\n",
        "               to control spread of infections. This will reduce the \n",
        "              counts, later economy can start with good note\"\"\""
      ],
      "execution_count": 0,
      "outputs": []
    },
    {
      "cell_type": "code",
      "metadata": {
        "id": "t-hk6H3MeJcW",
        "colab_type": "code",
        "outputId": "a2e435e6-bba4-4c39-fe9a-e9ef0e3d2378",
        "colab": {
          "base_uri": "https://localhost:8080/",
          "height": 54
        }
      },
      "source": [
        "freq = {}\n",
        "for ch in long_str:\n",
        "  ch = ch.lower()\n",
        "  if ch in freq:\n",
        "    freq[ch]+= 1\n",
        "  else:\n",
        "    freq[ch] = 1\n",
        "\n",
        "print(freq)"
      ],
      "execution_count": 0,
      "outputs": [
        {
          "output_type": "stream",
          "text": [
            "{' ': 54, 'l': 5, 'o': 14, 'c': 8, 'k': 1, 'd': 7, 'w': 3, 'n': 11, 'i': 11, 'a': 5, 's': 6, 'v': 1, 'e': 12, 'r': 10, 'y': 2, 'm': 2, 'u': 4, 'h': 4, 'q': 1, '\\n': 2, 't': 11, 'p': 1, 'f': 2, '.': 1, ',': 1, 'g': 1}\n"
          ],
          "name": "stdout"
        }
      ]
    },
    {
      "cell_type": "code",
      "metadata": {
        "id": "K6f16Jw9llKn",
        "colab_type": "code",
        "outputId": "b604310f-7b8e-46d5-fd38-274934af5e02",
        "colab": {
          "base_uri": "https://localhost:8080/",
          "height": 34
        }
      },
      "source": [
        "capitals.values()"
      ],
      "execution_count": 0,
      "outputs": [
        {
          "output_type": "execute_result",
          "data": {
            "text/plain": [
              "dict_values(['tamilnadu', 'bangalore', 'delhi', 'maharashtra', 'andhra pradesh'])"
            ]
          },
          "metadata": {
            "tags": []
          },
          "execution_count": 40
        }
      ]
    },
    {
      "cell_type": "code",
      "metadata": {
        "id": "X1jbPTkgloql",
        "colab_type": "code",
        "outputId": "d6d0f988-99a8-4894-9ad8-d376463a342f",
        "colab": {
          "base_uri": "https://localhost:8080/",
          "height": 34
        }
      },
      "source": [
        "capitals.items()"
      ],
      "execution_count": 0,
      "outputs": [
        {
          "output_type": "execute_result",
          "data": {
            "text/plain": [
              "dict_items([('tn', 'tamilnadu'), ('kn', 'bangalore'), ('dh', 'delhi'), ('mh', 'maharashtra'), ('ap', 'andhra pradesh')])"
            ]
          },
          "metadata": {
            "tags": []
          },
          "execution_count": 41
        }
      ]
    },
    {
      "cell_type": "code",
      "metadata": {
        "id": "09ASG0foltr3",
        "colab_type": "code",
        "outputId": "a0e74c80-b41e-456f-f024-e6f9fefef374",
        "colab": {
          "base_uri": "https://localhost:8080/",
          "height": 34
        }
      },
      "source": [
        "capitals.keys()"
      ],
      "execution_count": 0,
      "outputs": [
        {
          "output_type": "execute_result",
          "data": {
            "text/plain": [
              "dict_keys(['tn', 'kn', 'dh', 'mh', 'ap'])"
            ]
          },
          "metadata": {
            "tags": []
          },
          "execution_count": 42
        }
      ]
    }
  ]
}