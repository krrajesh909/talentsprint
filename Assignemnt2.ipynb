{
  "nbformat": 4,
  "nbformat_minor": 0,
  "metadata": {
    "colab": {
      "name": "Assignemnt2.ipynb",
      "provenance": [],
      "authorship_tag": "ABX9TyO4WMBtUPwDifXDqMu1OUfB",
      "include_colab_link": true
    },
    "kernelspec": {
      "name": "python3",
      "display_name": "Python 3"
    }
  },
  "cells": [
    {
      "cell_type": "markdown",
      "metadata": {
        "id": "view-in-github",
        "colab_type": "text"
      },
      "source": [
        "<a href=\"https://colab.research.google.com/github/krrajesh909/talentsprint/blob/master/Assignemnt2.ipynb\" target=\"_parent\"><img src=\"https://colab.research.google.com/assets/colab-badge.svg\" alt=\"Open In Colab\"/></a>"
      ]
    },
    {
      "cell_type": "code",
      "metadata": {
        "id": "4T__qlCHu2Ua",
        "colab_type": "code",
        "colab": {
          "base_uri": "https://localhost:8080/",
          "height": 54
        },
        "outputId": "f27bec13-7ac4-4ce6-8abf-624291154e04"
      },
      "source": [
        "\"Implement a program which returns the compressed string of a given string\"\n",
        "\"\"\"Implement a program which returns the compressed string of a given string\n",
        "Explanation\n",
        "Reduce the length of the input string by replacing multiple continuous\n",
        "occurrences of the same character by a number and the character.\n",
        "Example\n",
        "Input: \"aaa\"\n",
        "Output: \"3a\"\n",
        "Input : \"qqqprqcccaa\"\n",
        "Output: \"3qprpq3caa\"\n",
        "\"\"\""
      ],
      "execution_count": 1,
      "outputs": [
        {
          "output_type": "execute_result",
          "data": {
            "text/plain": [
              "'Implement a program which returns the compressed string of a given string\\nExplanation\\nReduce the length of the input string by replacing multiple continuous\\noccurrences of the same character by a number and the character.\\nExample\\nInput: \"aaa\"\\nOutput: \"3a\"\\nInput : \"qqqprqcccaa\"\\nOutput: \"3qprpq3caa\"\\n'"
            ]
          },
          "metadata": {
            "tags": []
          },
          "execution_count": 1
        }
      ]
    },
    {
      "cell_type": "code",
      "metadata": {
        "id": "XSX4ybyyvK-R",
        "colab_type": "code",
        "colab": {}
      },
      "source": [
        "\"\"\"prev_var = q\n",
        "final_string\n",
        "if curr_var == prev_var:\n",
        " count_var+=1\n",
        " prev_var = curr_var\n",
        "else:\n",
        " final_string+= if count > 1 (count) + prev_var else only prev_var\"\"\"\n",
        " "
      ],
      "execution_count": 0,
      "outputs": []
    },
    {
      "cell_type": "code",
      "metadata": {
        "id": "Svx6rYPS7Agm",
        "colab_type": "code",
        "colab": {}
      },
      "source": [
        "def reduce_string(ip:str) -> str:\n",
        "  prev_var= ip[0]\n",
        "  final_str = ''\n",
        "  count = 1\n",
        "  for curr_var in ip[1:]:\n",
        "    if curr_var == prev_var:\n",
        "      count += 1\n",
        "    else:\n",
        "      if count > 1:\n",
        "        final_str += str(count) + '' + prev_var\n",
        "        count = 1\n",
        "      else:\n",
        "        final_str += prev_var\n",
        "      prev_var = curr_var\n",
        "  return final_str\n",
        "\n",
        "\n"
      ],
      "execution_count": 0,
      "outputs": []
    },
    {
      "cell_type": "code",
      "metadata": {
        "id": "2YiyYC7Z9-ar",
        "colab_type": "code",
        "colab": {
          "base_uri": "https://localhost:8080/",
          "height": 34
        },
        "outputId": "dc8b3575-9e2f-4d6c-a9f0-08bc9ff1fc69"
      },
      "source": [
        "print(reduce_string('aaavb'))"
      ],
      "execution_count": 23,
      "outputs": [
        {
          "output_type": "stream",
          "text": [
            "3av\n"
          ],
          "name": "stdout"
        }
      ]
    },
    {
      "cell_type": "code",
      "metadata": {
        "id": "ea5ntd7YC0jh",
        "colab_type": "code",
        "colab": {}
      },
      "source": [
        "\"\"\"solution\"\"\"\n",
        "def run_length_encoding(s: str) -> str:\n",
        "    prev, current_count = s[0], 1\n",
        "    rle_string = \"\"\n",
        "    s += \" \"\n",
        "    for ch in s[1:]:\n",
        "        if ch == prev:\n",
        "            current_count += 1\n",
        "        else:\n",
        "            if current_count == 1:\n",
        "                rle_string += prev\n",
        "            else:\n",
        "                rle_string += str(current_count) + prev\n",
        "                current_count = 1\n",
        "            prev = ch\n",
        "    return rle_string"
      ],
      "execution_count": 0,
      "outputs": []
    },
    {
      "cell_type": "code",
      "metadata": {
        "id": "lZBFTRChDB_l",
        "colab_type": "code",
        "colab": {
          "base_uri": "https://localhost:8080/",
          "height": 34
        },
        "outputId": "746ba689-08d6-4fb5-aa4e-03e168c821a9"
      },
      "source": [
        "print(run_length_encoding('aaavb'))"
      ],
      "execution_count": 24,
      "outputs": [
        {
          "output_type": "stream",
          "text": [
            "3avb\n"
          ],
          "name": "stdout"
        }
      ]
    },
    {
      "cell_type": "code",
      "metadata": {
        "id": "5k1lIx09MPoF",
        "colab_type": "code",
        "colab": {}
      },
      "source": [
        "\"\"\"Find whether a given string has parentheses nested properly.\n",
        "Implement a function which accepts a string as an argument that contains a\n",
        "text. Find whether the parentheses inside it are properly nested.\n",
        "Note:\n",
        "The string will only contain open or/and closed parenthesis.\n",
        "Example:\n",
        "input – ((()))\n",
        "OutPut – True\n",
        "input – ()()\n",
        "OutPut – True\n",
        "input – (()))\n",
        "OutPut – False\"\"\""
      ],
      "execution_count": 0,
      "outputs": []
    },
    {
      "cell_type": "code",
      "metadata": {
        "id": "v94Uk4DgMYC6",
        "colab_type": "code",
        "colab": {}
      },
      "source": [
        "\"\"\"assign ) to -1 and ( tp +1\n",
        "   if count = -1 anytime then false\n",
        "   check if count == 0 at end of parsig of string\n",
        "   () = -1 , +1\n",
        "   (())) = (( - count = 2, ))) = count = -1, result - false\n",
        "\"\"\""
      ],
      "execution_count": 0,
      "outputs": []
    },
    {
      "cell_type": "code",
      "metadata": {
        "id": "pOuWlI3mNctT",
        "colab_type": "code",
        "colab": {}
      },
      "source": [
        "def check_par(inp:str) -> bool:\n",
        "  para_dict = {'(':1, ')':-1}\n",
        "  count = 0\n",
        "  for para in inp:\n",
        "      count += para_dict[para]\n",
        "      if count < 0:\n",
        "        return False\n",
        "  return True\n"
      ],
      "execution_count": 0,
      "outputs": []
    },
    {
      "cell_type": "code",
      "metadata": {
        "id": "e_CMWDV5PENI",
        "colab_type": "code",
        "colab": {}
      },
      "source": [
        "\"\"\"An anagram is a word or phrase formed by rearranging the letters of a different\n",
        "word or phrase, typically using all the original letters exactly once.\n",
        "For example, the word anagram can be rearranged into nag a ram, or the word\n",
        "binary into brainy or the word adobe into abode.\n",
        "Given a list of strings, Implement a function(s) which will group anagrams\n",
        "together.\n",
        "Example:\n",
        "Input: [\"eat\", \"tea\", \"tan\", \"ate\", \"nat\", \"bat\"],\n",
        "Output:\n",
        "[\n",
        " [\"ate\",\"eat\",\"tea\"],\n",
        " [\"nat\",\"tan\"],\n",
        " [\"bat\"]\"\"\""
      ],
      "execution_count": 0,
      "outputs": []
    },
    {
      "cell_type": "code",
      "metadata": {
        "id": "OtxzmzUSPGFL",
        "colab_type": "code",
        "colab": {}
      },
      "source": [
        "\"\"\"sort each string and check key of dictionary , \n",
        " if not available with same add to dcitionary with value, else skip"
      ],
      "execution_count": 0,
      "outputs": []
    },
    {
      "cell_type": "code",
      "metadata": {
        "id": "Ca1MvpFSQFlk",
        "colab_type": "code",
        "colab": {}
      },
      "source": [
        "def anagram_check(lt:list) -> list:\n",
        "  ana_dict = {}\n",
        "  for st in lt:\n",
        "    ch = ''.join(sorted(st))\n",
        "    if ch in ana_dict:\n",
        "      ana_dict[ch].append(st)\n",
        "    else:\n",
        "      ana_dict[ch] = [st]\n",
        "  return ana_dict.values()"
      ],
      "execution_count": 0,
      "outputs": []
    },
    {
      "cell_type": "code",
      "metadata": {
        "id": "E4O3aXUGT0T1",
        "colab_type": "code",
        "colab": {
          "base_uri": "https://localhost:8080/",
          "height": 34
        },
        "outputId": "2ed23bcf-9270-4d57-a201-eef6dc5732a0"
      },
      "source": [
        "print(anagram_check([\"eat\", \"tea\", \"tan\", \"ate\", \"nat\", \"bat\"]))"
      ],
      "execution_count": 61,
      "outputs": [
        {
          "output_type": "stream",
          "text": [
            "dict_values([['eat', 'tea', 'ate'], ['tan', 'nat'], ['bat']])\n"
          ],
          "name": "stdout"
        }
      ]
    },
    {
      "cell_type": "code",
      "metadata": {
        "id": "U58Tx1blUOLO",
        "colab_type": "code",
        "colab": {
          "base_uri": "https://localhost:8080/",
          "height": 118
        },
        "outputId": "a6fb4301-16c2-4b73-c0ae-d51a81f5eee1"
      },
      "source": [
        "str = [\"eat\", \"tea\", \"tan\", \"ate\", \"nat\", \"bat\"]\n",
        "for st in str:\n",
        "  print(type(st))"
      ],
      "execution_count": 39,
      "outputs": [
        {
          "output_type": "stream",
          "text": [
            "<class 'str'>\n",
            "<class 'str'>\n",
            "<class 'str'>\n",
            "<class 'str'>\n",
            "<class 'str'>\n",
            "<class 'str'>\n"
          ],
          "name": "stdout"
        }
      ]
    },
    {
      "cell_type": "code",
      "metadata": {
        "id": "LF3uzEvzOzvj",
        "colab_type": "code",
        "colab": {
          "base_uri": "https://localhost:8080/",
          "height": 34
        },
        "outputId": "07ceff6b-f066-4a4a-f95e-2e48b6b0ad19"
      },
      "source": [
        "print(check_par(')('))"
      ],
      "execution_count": 29,
      "outputs": [
        {
          "output_type": "stream",
          "text": [
            "False\n"
          ],
          "name": "stdout"
        }
      ]
    }
  ]
}