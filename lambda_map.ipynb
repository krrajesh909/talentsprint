{
  "nbformat": 4,
  "nbformat_minor": 0,
  "metadata": {
    "colab": {
      "name": "lambda_map.ipynb",
      "provenance": [],
      "authorship_tag": "ABX9TyPRPxI5q+P6t+64NiIglYd1",
      "include_colab_link": true
    },
    "kernelspec": {
      "name": "python3",
      "display_name": "Python 3"
    }
  },
  "cells": [
    {
      "cell_type": "markdown",
      "metadata": {
        "id": "view-in-github",
        "colab_type": "text"
      },
      "source": [
        "<a href=\"https://colab.research.google.com/github/krrajesh909/talentsprint/blob/master/lambda_map.ipynb\" target=\"_parent\"><img src=\"https://colab.research.google.com/assets/colab-badge.svg\" alt=\"Open In Colab\"/></a>"
      ]
    },
    {
      "cell_type": "code",
      "metadata": {
        "id": "Do8-ISCkqpEy",
        "colab_type": "code",
        "colab": {
          "base_uri": "https://localhost:8080/",
          "height": 34
        },
        "outputId": "249506d8-341f-4370-e9d6-55fca59b2b48"
      },
      "source": [
        "#lambda\n",
        "x = 2\n",
        "y = 3\n",
        "mx = lambda x,y:x if x>y else y\n",
        "print(mx(2,3))"
      ],
      "execution_count": 4,
      "outputs": [
        {
          "output_type": "stream",
          "text": [
            "3\n"
          ],
          "name": "stdout"
        }
      ]
    },
    {
      "cell_type": "code",
      "metadata": {
        "id": "S_OAkj-7sD0U",
        "colab_type": "code",
        "colab": {
          "base_uri": "https://localhost:8080/",
          "height": 34
        },
        "outputId": "4a35d28e-e9c2-49fa-b3a5-af5f49e1d6db"
      },
      "source": [
        "#map function\n",
        "n = [4,3,2,1]\n",
        "print(list(map(lambda x:x**2,n)))"
      ],
      "execution_count": 5,
      "outputs": [
        {
          "output_type": "stream",
          "text": [
            "[16, 9, 4, 1]\n"
          ],
          "name": "stdout"
        }
      ]
    },
    {
      "cell_type": "code",
      "metadata": {
        "id": "gEnOSvqO4bPz",
        "colab_type": "code",
        "colab": {
          "base_uri": "https://localhost:8080/",
          "height": 34
        },
        "outputId": "88ab87d0-1b43-4139-d5ca-eb8412784cdf"
      },
      "source": [
        "n = [4,3,2,1]\n",
        "print(list(map(lambda x:x>2,n)))"
      ],
      "execution_count": 13,
      "outputs": [
        {
          "output_type": "stream",
          "text": [
            "[True, True, False, False]\n"
          ],
          "name": "stdout"
        }
      ]
    },
    {
      "cell_type": "code",
      "metadata": {
        "id": "ZCWZ_eqovUB0",
        "colab_type": "code",
        "colab": {
          "base_uri": "https://localhost:8080/",
          "height": 34
        },
        "outputId": "0056137c-5b7b-4866-c04f-4e7c46de0de6"
      },
      "source": [
        "#list comprehension\n",
        "n = [4,3,2,1]\n",
        "print([x**2 for x in n])"
      ],
      "execution_count": 6,
      "outputs": [
        {
          "output_type": "stream",
          "text": [
            "[16, 9, 4, 1]\n"
          ],
          "name": "stdout"
        }
      ]
    },
    {
      "cell_type": "code",
      "metadata": {
        "id": "XsyR4X7BwhQW",
        "colab_type": "code",
        "colab": {
          "base_uri": "https://localhost:8080/",
          "height": 34
        },
        "outputId": "b5184429-b5d9-48ce-83ee-f45fbb7c920e"
      },
      "source": [
        "#filter\n",
        "n = [0,1,7,8,9]\n",
        "print(list(filter(lambda x:x>2,n)))"
      ],
      "execution_count": 7,
      "outputs": [
        {
          "output_type": "stream",
          "text": [
            "[7, 8, 9]\n"
          ],
          "name": "stdout"
        }
      ]
    },
    {
      "cell_type": "code",
      "metadata": {
        "id": "KNzRUuvQxDrR",
        "colab_type": "code",
        "colab": {
          "base_uri": "https://localhost:8080/",
          "height": 34
        },
        "outputId": "e2a868bd-e50d-4609-b2da-b0c49a8a4efc"
      },
      "source": [
        "print([x for x in n if x > 2])"
      ],
      "execution_count": 9,
      "outputs": [
        {
          "output_type": "stream",
          "text": [
            "[7, 8, 9]\n"
          ],
          "name": "stdout"
        }
      ]
    },
    {
      "cell_type": "code",
      "metadata": {
        "id": "YqjgpQm_xzqf",
        "colab_type": "code",
        "colab": {}
      },
      "source": [
        "#reduce\n",
        "#n =[4,3,2,1]\n",
        "#print(list(reduce(lambda x,y:x**y,n)))"
      ],
      "execution_count": 0,
      "outputs": []
    }
  ]
}